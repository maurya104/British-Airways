{
 "cells": [
  {
   "cell_type": "code",
   "execution_count": 1,
   "id": "d69c7f7f",
   "metadata": {},
   "outputs": [],
   "source": [
    "import pandas as pd\n",
    "import matplotlib.pyplot as plt\n",
    "import seaborn as sns\n",
    "import os\n",
    "\n",
    "#regex\n",
    "import re"
   ]
  },
  {
   "cell_type": "code",
   "execution_count": 2,
   "id": "2f9b95dc",
   "metadata": {},
   "outputs": [],
   "source": [
    "#create a dataframe from csv file\n",
    "\n",
    "cwd = os.getcwd()\n",
    "\n",
    "df = pd.read_csv(cwd+\"/BA_reviews.csv\", index_col=0)"
   ]
  },
  {
   "cell_type": "code",
   "execution_count": 3,
   "id": "6d0fcd6f",
   "metadata": {},
   "outputs": [
    {
     "data": {
      "text/html": [
       "<div>\n",
       "<style scoped>\n",
       "    .dataframe tbody tr th:only-of-type {\n",
       "        vertical-align: middle;\n",
       "    }\n",
       "\n",
       "    .dataframe tbody tr th {\n",
       "        vertical-align: top;\n",
       "    }\n",
       "\n",
       "    .dataframe thead th {\n",
       "        text-align: right;\n",
       "    }\n",
       "</style>\n",
       "<table border=\"1\" class=\"dataframe\">\n",
       "  <thead>\n",
       "    <tr style=\"text-align: right;\">\n",
       "      <th></th>\n",
       "      <th>reviews</th>\n",
       "      <th>stars</th>\n",
       "      <th>date</th>\n",
       "      <th>country</th>\n",
       "    </tr>\n",
       "  </thead>\n",
       "  <tbody>\n",
       "    <tr>\n",
       "      <th>0</th>\n",
       "      <td>✅ Trip Verified |  Easy check in a T5. Galleri...</td>\n",
       "      <td>\\n\\t\\t\\t\\t\\t\\t\\t\\t\\t\\t\\t\\t\\t5</td>\n",
       "      <td>13th August 2023</td>\n",
       "      <td>United Kingdom</td>\n",
       "    </tr>\n",
       "    <tr>\n",
       "      <th>1</th>\n",
       "      <td>Not Verified |  Flight delayed by an hour, it ...</td>\n",
       "      <td>8</td>\n",
       "      <td>12th August 2023</td>\n",
       "      <td>United States</td>\n",
       "    </tr>\n",
       "    <tr>\n",
       "      <th>2</th>\n",
       "      <td>Not Verified | The staff are very rude and not...</td>\n",
       "      <td>2</td>\n",
       "      <td>11th August 2023</td>\n",
       "      <td>United Kingdom</td>\n",
       "    </tr>\n",
       "    <tr>\n",
       "      <th>3</th>\n",
       "      <td>✅ Trip Verified |  Good domestic flight operat...</td>\n",
       "      <td>2</td>\n",
       "      <td>8th August 2023</td>\n",
       "      <td>United Kingdom</td>\n",
       "    </tr>\n",
       "    <tr>\n",
       "      <th>4</th>\n",
       "      <td>Not Verified | Failed at all basic travel fund...</td>\n",
       "      <td>10</td>\n",
       "      <td>8th August 2023</td>\n",
       "      <td>Canada</td>\n",
       "    </tr>\n",
       "  </tbody>\n",
       "</table>\n",
       "</div>"
      ],
      "text/plain": [
       "                                             reviews  \\\n",
       "0  ✅ Trip Verified |  Easy check in a T5. Galleri...   \n",
       "1  Not Verified |  Flight delayed by an hour, it ...   \n",
       "2  Not Verified | The staff are very rude and not...   \n",
       "3  ✅ Trip Verified |  Good domestic flight operat...   \n",
       "4  Not Verified | Failed at all basic travel fund...   \n",
       "\n",
       "                           stars              date         country  \n",
       "0  \\n\\t\\t\\t\\t\\t\\t\\t\\t\\t\\t\\t\\t\\t5  13th August 2023  United Kingdom  \n",
       "1                              8  12th August 2023   United States  \n",
       "2                              2  11th August 2023  United Kingdom  \n",
       "3                              2   8th August 2023  United Kingdom  \n",
       "4                             10   8th August 2023          Canada  "
      ]
     },
     "execution_count": 3,
     "metadata": {},
     "output_type": "execute_result"
    }
   ],
   "source": [
    "df.head()"
   ]
  },
  {
   "cell_type": "code",
   "execution_count": 4,
   "id": "f8e46a99",
   "metadata": {},
   "outputs": [
    {
     "data": {
      "text/plain": [
       "(3500, 4)"
      ]
     },
     "execution_count": 4,
     "metadata": {},
     "output_type": "execute_result"
    }
   ],
   "source": [
    "df.shape"
   ]
  },
  {
   "cell_type": "markdown",
   "id": "eef350cc",
   "metadata": {},
   "source": [
    "create a column which mentions if the user is verified or not."
   ]
  },
  {
   "cell_type": "code",
   "execution_count": 5,
   "id": "66415844",
   "metadata": {},
   "outputs": [
    {
     "data": {
      "text/plain": [
       "0        True\n",
       "1       False\n",
       "2       False\n",
       "3        True\n",
       "4       False\n",
       "        ...  \n",
       "3495    False\n",
       "3496    False\n",
       "3497    False\n",
       "3498    False\n",
       "3499    False\n",
       "Name: verified, Length: 3500, dtype: bool"
      ]
     },
     "execution_count": 5,
     "metadata": {},
     "output_type": "execute_result"
    }
   ],
   "source": [
    "df['verified'] = df.reviews.str.contains(\"Trip Verified\")\n",
    "df['verified']"
   ]
  },
  {
   "cell_type": "markdown",
   "id": "9b2e9876",
   "metadata": {},
   "source": [
    "# Cleaning Reviews"
   ]
  },
  {
   "cell_type": "markdown",
   "id": "cd1d3e2a",
   "metadata": {},
   "source": [
    " extract the column of reviews into a separate dataframe and clean it for semantic analysis"
   ]
  },
  {
   "cell_type": "code",
   "execution_count": 19,
   "id": "a3eee541",
   "metadata": {},
   "outputs": [
    {
     "name": "stderr",
     "output_type": "stream",
     "text": [
      "[nltk_data] Downloading package stopwords to\n",
      "[nltk_data]     C:\\Users\\hp\\AppData\\Roaming\\nltk_data...\n",
      "[nltk_data]   Package stopwords is already up-to-date!\n",
      "[nltk_data] Downloading package wordnet to\n",
      "[nltk_data]     C:\\Users\\hp\\AppData\\Roaming\\nltk_data...\n",
      "[nltk_data]   Package wordnet is already up-to-date!\n",
      "[nltk_data] Downloading package omw-1.4 to\n",
      "[nltk_data]     C:\\Users\\hp\\AppData\\Roaming\\nltk_data...\n"
     ]
    },
    {
     "data": {
      "text/plain": [
       "True"
      ]
     },
     "execution_count": 19,
     "metadata": {},
     "output_type": "execute_result"
    }
   ],
   "source": [
    "import nltk\n",
    "nltk.download('stopwords')\n",
    "nltk.download('wordnet')\n",
    "nltk.download('omw-1.4')"
   ]
  },
  {
   "cell_type": "code",
   "execution_count": 20,
   "id": "222ce53e",
   "metadata": {},
   "outputs": [],
   "source": [
    "#for lemmatization of words we will use nltk library\n",
    "from nltk.stem import WordNetLemmatizer\n",
    "from nltk.corpus import stopwords\n",
    "lemma = WordNetLemmatizer()\n",
    "\n",
    "reviews_data = df.reviews.str.strip(\"✅ Trip Verified |\")\n",
    "\n",
    "# #create an empty list to collect cleaned data corpus\n",
    "corpus =[]\n",
    "\n",
    "# #loop through each review, remove punctuations, small case it, join it and add it to corpus\n",
    "for rev in reviews_data:\n",
    "    rev = re.sub('[^a-zA-Z]',' ', rev)\n",
    "    rev = rev.lower()\n",
    "    rev = rev.split()\n",
    "    rev = [lemma.lemmatize(word) for word in rev if word not in set(stopwords.words(\"english\"))]\n",
    "    rev = \" \".join(rev)\n",
    "    corpus.append(rev)"
   ]
  },
  {
   "cell_type": "code",
   "execution_count": 21,
   "id": "c16aa6e7",
   "metadata": {},
   "outputs": [
    {
     "data": {
      "text/html": [
       "<div>\n",
       "<style scoped>\n",
       "    .dataframe tbody tr th:only-of-type {\n",
       "        vertical-align: middle;\n",
       "    }\n",
       "\n",
       "    .dataframe tbody tr th {\n",
       "        vertical-align: top;\n",
       "    }\n",
       "\n",
       "    .dataframe thead th {\n",
       "        text-align: right;\n",
       "    }\n",
       "</style>\n",
       "<table border=\"1\" class=\"dataframe\">\n",
       "  <thead>\n",
       "    <tr style=\"text-align: right;\">\n",
       "      <th></th>\n",
       "      <th>reviews</th>\n",
       "      <th>stars</th>\n",
       "      <th>date</th>\n",
       "      <th>country</th>\n",
       "      <th>verified</th>\n",
       "      <th>corpus</th>\n",
       "    </tr>\n",
       "  </thead>\n",
       "  <tbody>\n",
       "    <tr>\n",
       "      <th>0</th>\n",
       "      <td>✅ Trip Verified |  Easy check in a T5. Galleri...</td>\n",
       "      <td>\\n\\t\\t\\t\\t\\t\\t\\t\\t\\t\\t\\t\\t\\t5</td>\n",
       "      <td>13th August 2023</td>\n",
       "      <td>United Kingdom</td>\n",
       "      <td>True</td>\n",
       "      <td>easy check gallery south north lounge packed a...</td>\n",
       "    </tr>\n",
       "    <tr>\n",
       "      <th>1</th>\n",
       "      <td>Not Verified |  Flight delayed by an hour, it ...</td>\n",
       "      <td>8</td>\n",
       "      <td>12th August 2023</td>\n",
       "      <td>United States</td>\n",
       "      <td>False</td>\n",
       "      <td>verified flight delayed hour happens biggie u ...</td>\n",
       "    </tr>\n",
       "    <tr>\n",
       "      <th>2</th>\n",
       "      <td>Not Verified | The staff are very rude and not...</td>\n",
       "      <td>2</td>\n",
       "      <td>11th August 2023</td>\n",
       "      <td>United Kingdom</td>\n",
       "      <td>False</td>\n",
       "      <td>verified staff rude trained properly exception...</td>\n",
       "    </tr>\n",
       "    <tr>\n",
       "      <th>3</th>\n",
       "      <td>✅ Trip Verified |  Good domestic flight operat...</td>\n",
       "      <td>2</td>\n",
       "      <td>8th August 2023</td>\n",
       "      <td>United Kingdom</td>\n",
       "      <td>True</td>\n",
       "      <td>good domestic flight operated ba cityflyer gro...</td>\n",
       "    </tr>\n",
       "    <tr>\n",
       "      <th>4</th>\n",
       "      <td>Not Verified | Failed at all basic travel fund...</td>\n",
       "      <td>10</td>\n",
       "      <td>8th August 2023</td>\n",
       "      <td>Canada</td>\n",
       "      <td>False</td>\n",
       "      <td>verified failed basic travel fundamental fligh...</td>\n",
       "    </tr>\n",
       "  </tbody>\n",
       "</table>\n",
       "</div>"
      ],
      "text/plain": [
       "                                             reviews  \\\n",
       "0  ✅ Trip Verified |  Easy check in a T5. Galleri...   \n",
       "1  Not Verified |  Flight delayed by an hour, it ...   \n",
       "2  Not Verified | The staff are very rude and not...   \n",
       "3  ✅ Trip Verified |  Good domestic flight operat...   \n",
       "4  Not Verified | Failed at all basic travel fund...   \n",
       "\n",
       "                           stars              date         country  verified  \\\n",
       "0  \\n\\t\\t\\t\\t\\t\\t\\t\\t\\t\\t\\t\\t\\t5  13th August 2023  United Kingdom      True   \n",
       "1                              8  12th August 2023   United States     False   \n",
       "2                              2  11th August 2023  United Kingdom     False   \n",
       "3                              2   8th August 2023  United Kingdom      True   \n",
       "4                             10   8th August 2023          Canada     False   \n",
       "\n",
       "                                              corpus  \n",
       "0  easy check gallery south north lounge packed a...  \n",
       "1  verified flight delayed hour happens biggie u ...  \n",
       "2  verified staff rude trained properly exception...  \n",
       "3  good domestic flight operated ba cityflyer gro...  \n",
       "4  verified failed basic travel fundamental fligh...  "
      ]
     },
     "execution_count": 21,
     "metadata": {},
     "output_type": "execute_result"
    }
   ],
   "source": [
    "# add the corpus to the original dataframe\n",
    "\n",
    "df['corpus'] = corpus\n",
    "df.head()"
   ]
  },
  {
   "cell_type": "markdown",
   "id": "3fae0d04",
   "metadata": {},
   "source": [
    "# Cleaning/Fromat date"
   ]
  },
  {
   "cell_type": "code",
   "execution_count": 22,
   "id": "1a3ab453",
   "metadata": {},
   "outputs": [
    {
     "data": {
      "text/plain": [
       "reviews     object\n",
       "stars       object\n",
       "date        object\n",
       "country     object\n",
       "verified      bool\n",
       "corpus      object\n",
       "dtype: object"
      ]
     },
     "execution_count": 22,
     "metadata": {},
     "output_type": "execute_result"
    }
   ],
   "source": [
    "df.dtypes"
   ]
  },
  {
   "cell_type": "code",
   "execution_count": 24,
   "id": "62eaa881",
   "metadata": {},
   "outputs": [
    {
     "data": {
      "text/plain": [
       "0   2023-08-13\n",
       "1   2023-08-12\n",
       "2   2023-08-11\n",
       "3   2023-08-08\n",
       "4   2023-08-08\n",
       "Name: date, dtype: datetime64[ns]"
      ]
     },
     "execution_count": 24,
     "metadata": {},
     "output_type": "execute_result"
    }
   ],
   "source": [
    "# convert the date to datetime format\n",
    "\n",
    "df.date = pd.to_datetime(df.date)\n",
    "df.date.head()"
   ]
  },
  {
   "cell_type": "markdown",
   "id": "bb688355",
   "metadata": {},
   "source": [
    "# Cleaning ratings with stars"
   ]
  },
  {
   "cell_type": "code",
   "execution_count": 25,
   "id": "c006b97a",
   "metadata": {},
   "outputs": [
    {
     "data": {
      "text/plain": [
       "array(['\\n\\t\\t\\t\\t\\t\\t\\t\\t\\t\\t\\t\\t\\t5', '8', '2', '10', '1', '9', '6',\n",
       "       '4', '3', '7', '5', 'None'], dtype=object)"
      ]
     },
     "execution_count": 25,
     "metadata": {},
     "output_type": "execute_result"
    }
   ],
   "source": [
    "#check for unique values\n",
    "df.stars.unique()"
   ]
  },
  {
   "cell_type": "code",
   "execution_count": 26,
   "id": "9a35746a",
   "metadata": {},
   "outputs": [],
   "source": [
    "# remove the \\t and \\n from the ratings\n",
    "df.stars = df.stars.str.strip(\"\\n\\t\\t\\t\\t\\t\\t\\t\\t\\t\\t\\t\\t\\t\")"
   ]
  },
  {
   "cell_type": "code",
   "execution_count": 27,
   "id": "49ea1e4f",
   "metadata": {},
   "outputs": [
    {
     "data": {
      "text/plain": [
       "1       810\n",
       "2       402\n",
       "3       396\n",
       "8       347\n",
       "10      296\n",
       "9       291\n",
       "7       291\n",
       "5       249\n",
       "4       239\n",
       "6       173\n",
       "None      6\n",
       "Name: stars, dtype: int64"
      ]
     },
     "execution_count": 27,
     "metadata": {},
     "output_type": "execute_result"
    }
   ],
   "source": [
    "df.stars.value_counts()"
   ]
  },
  {
   "cell_type": "markdown",
   "id": "86425cbe",
   "metadata": {},
   "source": [
    "There are 6 rows having values \"None\" in the ratings. We will drop all these 6 rows."
   ]
  },
  {
   "cell_type": "code",
   "execution_count": 28,
   "id": "ef4ccf2b",
   "metadata": {},
   "outputs": [],
   "source": [
    "# drop the rows where the value of ratings is None\n",
    "df.drop(df[df.stars == \"None\"].index, axis=0, inplace=True)"
   ]
  },
  {
   "cell_type": "code",
   "execution_count": 29,
   "id": "a62e6971",
   "metadata": {},
   "outputs": [
    {
     "data": {
      "text/plain": [
       "array(['5', '8', '2', '10', '1', '9', '6', '4', '3', '7'], dtype=object)"
      ]
     },
     "execution_count": 29,
     "metadata": {},
     "output_type": "execute_result"
    }
   ],
   "source": [
    "#check the unique values again\n",
    "df.stars.unique()"
   ]
  },
  {
   "cell_type": "markdown",
   "id": "7274db29",
   "metadata": {},
   "source": [
    "# Check for null Values"
   ]
  },
  {
   "cell_type": "code",
   "execution_count": 31,
   "id": "a98ccc25",
   "metadata": {},
   "outputs": [
    {
     "data": {
      "text/plain": [
       "reviews     0\n",
       "stars       0\n",
       "date        0\n",
       "country     2\n",
       "verified    0\n",
       "corpus      0\n",
       "dtype: int64"
      ]
     },
     "execution_count": 31,
     "metadata": {},
     "output_type": "execute_result"
    }
   ],
   "source": [
    "df.isnull().sum()"
   ]
  },
  {
   "cell_type": "markdown",
   "id": "05ea7276",
   "metadata": {},
   "source": [
    "We have two missing values for country. For this we can just remove those two reviews (rows) from the dataframe"
   ]
  },
  {
   "cell_type": "code",
   "execution_count": 32,
   "id": "99541465",
   "metadata": {},
   "outputs": [],
   "source": [
    "#drop the rows using index where the country value is null\n",
    "df.drop(df[df.country.isnull() == True].index, axis=0, inplace=True)"
   ]
  },
  {
   "cell_type": "code",
   "execution_count": 33,
   "id": "f9fdce55",
   "metadata": {},
   "outputs": [
    {
     "data": {
      "text/plain": [
       "(3492, 6)"
      ]
     },
     "execution_count": 33,
     "metadata": {},
     "output_type": "execute_result"
    }
   ],
   "source": [
    "df.shape"
   ]
  },
  {
   "cell_type": "code",
   "execution_count": 34,
   "id": "3f25d08f",
   "metadata": {},
   "outputs": [
    {
     "data": {
      "text/html": [
       "<div>\n",
       "<style scoped>\n",
       "    .dataframe tbody tr th:only-of-type {\n",
       "        vertical-align: middle;\n",
       "    }\n",
       "\n",
       "    .dataframe tbody tr th {\n",
       "        vertical-align: top;\n",
       "    }\n",
       "\n",
       "    .dataframe thead th {\n",
       "        text-align: right;\n",
       "    }\n",
       "</style>\n",
       "<table border=\"1\" class=\"dataframe\">\n",
       "  <thead>\n",
       "    <tr style=\"text-align: right;\">\n",
       "      <th></th>\n",
       "      <th>reviews</th>\n",
       "      <th>stars</th>\n",
       "      <th>date</th>\n",
       "      <th>country</th>\n",
       "      <th>verified</th>\n",
       "      <th>corpus</th>\n",
       "    </tr>\n",
       "  </thead>\n",
       "  <tbody>\n",
       "    <tr>\n",
       "      <th>0</th>\n",
       "      <td>✅ Trip Verified |  Easy check in a T5. Galleri...</td>\n",
       "      <td>5</td>\n",
       "      <td>2023-08-13</td>\n",
       "      <td>United Kingdom</td>\n",
       "      <td>True</td>\n",
       "      <td>easy check gallery south north lounge packed a...</td>\n",
       "    </tr>\n",
       "    <tr>\n",
       "      <th>1</th>\n",
       "      <td>Not Verified |  Flight delayed by an hour, it ...</td>\n",
       "      <td>8</td>\n",
       "      <td>2023-08-12</td>\n",
       "      <td>United States</td>\n",
       "      <td>False</td>\n",
       "      <td>verified flight delayed hour happens biggie u ...</td>\n",
       "    </tr>\n",
       "    <tr>\n",
       "      <th>2</th>\n",
       "      <td>Not Verified | The staff are very rude and not...</td>\n",
       "      <td>2</td>\n",
       "      <td>2023-08-11</td>\n",
       "      <td>United Kingdom</td>\n",
       "      <td>False</td>\n",
       "      <td>verified staff rude trained properly exception...</td>\n",
       "    </tr>\n",
       "    <tr>\n",
       "      <th>3</th>\n",
       "      <td>✅ Trip Verified |  Good domestic flight operat...</td>\n",
       "      <td>2</td>\n",
       "      <td>2023-08-08</td>\n",
       "      <td>United Kingdom</td>\n",
       "      <td>True</td>\n",
       "      <td>good domestic flight operated ba cityflyer gro...</td>\n",
       "    </tr>\n",
       "    <tr>\n",
       "      <th>4</th>\n",
       "      <td>Not Verified | Failed at all basic travel fund...</td>\n",
       "      <td>10</td>\n",
       "      <td>2023-08-08</td>\n",
       "      <td>Canada</td>\n",
       "      <td>False</td>\n",
       "      <td>verified failed basic travel fundamental fligh...</td>\n",
       "    </tr>\n",
       "    <tr>\n",
       "      <th>...</th>\n",
       "      <td>...</td>\n",
       "      <td>...</td>\n",
       "      <td>...</td>\n",
       "      <td>...</td>\n",
       "      <td>...</td>\n",
       "      <td>...</td>\n",
       "    </tr>\n",
       "    <tr>\n",
       "      <th>3487</th>\n",
       "      <td>Having taken several domestic flights to Londo...</td>\n",
       "      <td>3</td>\n",
       "      <td>2014-06-25</td>\n",
       "      <td>United Kingdom</td>\n",
       "      <td>False</td>\n",
       "      <td>taken several domestic flight london heathrow ...</td>\n",
       "    </tr>\n",
       "    <tr>\n",
       "      <th>3488</th>\n",
       "      <td>Have flown with BA several times over past few...</td>\n",
       "      <td>8</td>\n",
       "      <td>2014-06-25</td>\n",
       "      <td>United Kingdom</td>\n",
       "      <td>False</td>\n",
       "      <td>flown ba several time past year mostly economy...</td>\n",
       "    </tr>\n",
       "    <tr>\n",
       "      <th>3489</th>\n",
       "      <td>LHR to VIE BA 704 23 June 2014. The meal servi...</td>\n",
       "      <td>9</td>\n",
       "      <td>2014-06-25</td>\n",
       "      <td>United Kingdom</td>\n",
       "      <td>False</td>\n",
       "      <td>lhr vie ba june meal service euro traveller ap...</td>\n",
       "    </tr>\n",
       "    <tr>\n",
       "      <th>3490</th>\n",
       "      <td>Flew from LHR to Hong Kong April 13th 2014 BA ...</td>\n",
       "      <td>6</td>\n",
       "      <td>2014-06-25</td>\n",
       "      <td>United Kingdom</td>\n",
       "      <td>False</td>\n",
       "      <td>flew lhr hong kong april th ba flight took hou...</td>\n",
       "    </tr>\n",
       "    <tr>\n",
       "      <th>3491</th>\n",
       "      <td>I flew from Edinburgh to Heathrow and then on ...</td>\n",
       "      <td>3</td>\n",
       "      <td>2014-06-23</td>\n",
       "      <td>United Kingdom</td>\n",
       "      <td>False</td>\n",
       "      <td>flew edinburgh heathrow jfk returned la vega f...</td>\n",
       "    </tr>\n",
       "  </tbody>\n",
       "</table>\n",
       "<p>3492 rows × 6 columns</p>\n",
       "</div>"
      ],
      "text/plain": [
       "                                                reviews stars       date  \\\n",
       "0     ✅ Trip Verified |  Easy check in a T5. Galleri...     5 2023-08-13   \n",
       "1     Not Verified |  Flight delayed by an hour, it ...     8 2023-08-12   \n",
       "2     Not Verified | The staff are very rude and not...     2 2023-08-11   \n",
       "3     ✅ Trip Verified |  Good domestic flight operat...     2 2023-08-08   \n",
       "4     Not Verified | Failed at all basic travel fund...    10 2023-08-08   \n",
       "...                                                 ...   ...        ...   \n",
       "3487  Having taken several domestic flights to Londo...     3 2014-06-25   \n",
       "3488  Have flown with BA several times over past few...     8 2014-06-25   \n",
       "3489  LHR to VIE BA 704 23 June 2014. The meal servi...     9 2014-06-25   \n",
       "3490  Flew from LHR to Hong Kong April 13th 2014 BA ...     6 2014-06-25   \n",
       "3491  I flew from Edinburgh to Heathrow and then on ...     3 2014-06-23   \n",
       "\n",
       "             country  verified  \\\n",
       "0     United Kingdom      True   \n",
       "1      United States     False   \n",
       "2     United Kingdom     False   \n",
       "3     United Kingdom      True   \n",
       "4             Canada     False   \n",
       "...              ...       ...   \n",
       "3487  United Kingdom     False   \n",
       "3488  United Kingdom     False   \n",
       "3489  United Kingdom     False   \n",
       "3490  United Kingdom     False   \n",
       "3491  United Kingdom     False   \n",
       "\n",
       "                                                 corpus  \n",
       "0     easy check gallery south north lounge packed a...  \n",
       "1     verified flight delayed hour happens biggie u ...  \n",
       "2     verified staff rude trained properly exception...  \n",
       "3     good domestic flight operated ba cityflyer gro...  \n",
       "4     verified failed basic travel fundamental fligh...  \n",
       "...                                                 ...  \n",
       "3487  taken several domestic flight london heathrow ...  \n",
       "3488  flown ba several time past year mostly economy...  \n",
       "3489  lhr vie ba june meal service euro traveller ap...  \n",
       "3490  flew lhr hong kong april th ba flight took hou...  \n",
       "3491  flew edinburgh heathrow jfk returned la vega f...  \n",
       "\n",
       "[3492 rows x 6 columns]"
      ]
     },
     "execution_count": 34,
     "metadata": {},
     "output_type": "execute_result"
    }
   ],
   "source": [
    "#resetting the index\n",
    "df.reset_index(drop=True)"
   ]
  },
  {
   "cell_type": "markdown",
   "id": "6b09d69e",
   "metadata": {},
   "source": [
    "Now our data is all cleaned and ready for data visualization and data analysis."
   ]
  },
  {
   "cell_type": "code",
   "execution_count": 35,
   "id": "9e0181e7",
   "metadata": {},
   "outputs": [],
   "source": [
    "# export the cleaned data\n",
    "\n",
    "df.to_csv(cwd + \"/cleaned-BA-reviews.csv\")"
   ]
  },
  {
   "cell_type": "code",
   "execution_count": null,
   "id": "8ceac9ea",
   "metadata": {},
   "outputs": [],
   "source": []
  }
 ],
 "metadata": {
  "kernelspec": {
   "display_name": "Python 3 (ipykernel)",
   "language": "python",
   "name": "python3"
  },
  "language_info": {
   "codemirror_mode": {
    "name": "ipython",
    "version": 3
   },
   "file_extension": ".py",
   "mimetype": "text/x-python",
   "name": "python",
   "nbconvert_exporter": "python",
   "pygments_lexer": "ipython3",
   "version": "3.9.13"
  }
 },
 "nbformat": 4,
 "nbformat_minor": 5
}
